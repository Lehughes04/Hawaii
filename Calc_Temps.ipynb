{
 "cells": [
  {
   "cell_type": "code",
   "execution_count": 1,
   "metadata": {
    "collapsed": true
   },
   "outputs": [],
   "source": [
    "#Import necessary modules\n",
    "import matplotlib.pyplot as plt\n",
    "import pandas as pd\n",
    "import numpy as np\n",
    "import sqlalchemy\n",
    "from sqlalchemy.ext.automap import automap_base\n",
    "from sqlalchemy.ext.declarative import declarative_base\n",
    "from sqlalchemy.orm import Session\n",
    "from sqlalchemy import create_engine, func, Column, Integer, Float, String, ForeignKey, and_\n",
    "from sqlalchemy_utils import database_exists, create_database\n",
    "import seaborn as sns\n",
    "from datetime import datetime, date, time"
   ]
  },
  {
   "cell_type": "code",
   "execution_count": 2,
   "metadata": {},
   "outputs": [],
   "source": [
    "def calc_temps(start_dt, end_dt):\n",
    "    try:\n",
    "        #build engine\n",
    "        start_dt = str(start_dt)\n",
    "        end_dt = str(end_dt)\n",
    "        engine = create_engine('sqlite:///hawaii.sqlite')\n",
    "        if not database_exists(engine.url):\n",
    "            create_database(engine.url)\n",
    "        Base = automap_base()\n",
    "        #Create metadata\n",
    "        Base.metadata.create_all(engine)\n",
    "        Base.prepare(engine, reflect=True)\n",
    "        #Create Session\n",
    "        session = Session(bind=engine)\n",
    "        conn = engine.connect()\n",
    "        Measurements = Base.classes.measurements\n",
    "        Stations = Base.classes.stations\n",
    "        '''\n",
    "        maxtemp = session.query(func.max(Measurements.tobs)).filter(and_(Measurements.date>=start_dt,Measurements.date<=end_dt))\n",
    "        avgtemp = session.query(func.avg(Measurements.tobs)).filter(and_(Measurements.date>=start_dt,Measurements.date<=end_dt))\n",
    "        mintemp = session.query(func.min(Measurements.tobs)).filter(and_(Measurements.date>=start_dt,Measurements.date<=end_dt))\n",
    "        '''\n",
    "        maxtemp = pd.read_sql(\"SELECT max(tobs) as tmax FROM measurements WHERE date between '\" + str(start_dt) + \"' and '\" + str(end_dt) + \"'\", conn)\n",
    "        avgtemp = pd.read_sql(\"SELECT avg(tobs) as tavg FROM measurements WHERE date between '\" + str(start_dt) + \"' and '\" + str(end_dt) + \"'\", conn)\n",
    "        mintemp = pd.read_sql(\"SELECT min(tobs) as tmin FROM measurements WHERE date between '\" + str(start_dt) + \"' and '\" + str(end_dt) + \"'\", conn)\n",
    "        plt.bar(1, height=avgtemp['tavg'],yerr=maxtemp['tmax'] - mintemp['tmin'], align='edge', width=.01)\n",
    "        plt.ylabel('Temp (F)')\n",
    "        plt.title('Vacation Avg Temp')\n",
    "        #plt.xticks( x )\n",
    "        return plt.show()\n",
    "    except:\n",
    "        if start_dt > '2017-08-23' or end_dt>'2017-08-23':\n",
    "            return 'Error:  Date range exceeds maximum date in data.'"
   ]
  },
  {
   "cell_type": "code",
   "execution_count": 3,
   "metadata": {},
   "outputs": [
    {
     "name": "stdout",
     "output_type": "stream",
     "text": [
      "Enter start date of vacation (YYYY-MM-DD):  2017-01-01\n",
      "Enter end date of vacation (YYYY-MM-DD):  2017-04-29\n"
     ]
    },
    {
     "data": {
      "image/png": "[encoded data removed]",
      "text/plain": [
       "<matplotlib.figure.Figure at 0x257d2981208>"
      ]
     },
     "metadata": {},
     "output_type": "display_data"
    }
   ],
   "source": [
    "if __name__ == '__main__':\n",
    "    start_dt = input('Enter start date of vacation (YYYY-MM-DD):  ')\n",
    "    end_dt = '0001-01-01'\n",
    "    start_dt = datetime.strptime(start_dt,'%Y-%m-%d')\n",
    "    end_dt = datetime.strptime(end_dt,'%Y-%m-%d')\n",
    "    while end_dt < start_dt:\n",
    "        end_dt = input('Enter end date of vacation (YYYY-MM-DD):  ')\n",
    "        end_dt = datetime.strptime(end_dt,'%Y-%m-%d') \n",
    "    calc_temps(start_dt,end_dt)"
   ]
  },
  {
   "cell_type": "code",
   "execution_count": null,
   "metadata": {
    "collapsed": true
   },
   "outputs": [],
   "source": []
  }
 ],
 "metadata": {
  "kernelspec": {
   "display_name": "Python [conda env:PythonData]",
   "language": "python",
   "name": "conda-env-PythonData-py"
  },
  "language_info": {
   "codemirror_mode": {
    "name": "ipython",
    "version": 3
   },
   "file_extension": ".py",
   "mimetype": "text/x-python",
   "name": "python",
   "nbconvert_exporter": "python",
   "pygments_lexer": "ipython3",
   "version": "3.6.1"
  }
 },
 "nbformat": 4,
 "nbformat_minor": 2
}
